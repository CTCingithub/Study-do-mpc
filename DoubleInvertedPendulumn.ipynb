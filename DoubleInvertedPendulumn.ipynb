{
 "cells": [
  {
   "attachments": {},
   "cell_type": "markdown",
   "metadata": {},
   "source": [
    "# Double Inverted Pendulum"
   ]
  },
  {
   "attachments": {},
   "cell_type": "markdown",
   "metadata": {},
   "source": [
    "See [source page](https://www.do-mpc.com/en/latest/example_gallery/DIP.html) for official tutorial."
   ]
  },
  {
   "attachments": {},
   "cell_type": "markdown",
   "metadata": {},
   "source": [
    "## Model"
   ]
  },
  {
   "attachments": {},
   "cell_type": "markdown",
   "metadata": {},
   "source": [
    "In this example, the double pendulumn on a cart as depicted below is studied.\n",
    "\n",
    "![Double pendulumn on a cart](images/2023-04-05-12-56-48.png)\n",
    "\n",
    "The system is described in terms of its horizontal position $x$ and the two angles $\\theta_1$ and $\\theta_2$ , where $\\theta_1=\\theta_2=0$ denotes the desired upright position. Suppose there's no friction."
   ]
  },
  {
   "attachments": {},
   "cell_type": "markdown",
   "metadata": {},
   "source": [
    "We're able to write mass points' location as:\n",
    "\n",
    "$$\n",
    "\\begin{aligned}\n",
    "    x_0 = x, \\qquad & y_0 = 0,\\\\\n",
    "    x_1 = x + l_{1} \\sin{\\theta_1}, \\qquad & y_1 = l_{1} \\cos{\\theta_1},\\\\\n",
    "    x_2 = x + L_{1} \\sin{\\theta_1} + l_{2} \\sin{\\theta_2}, \\qquad & y_2 = L_{1} \\cos{\\theta_1} + l_{2} \\cos{\\theta_2}.\n",
    "\\end{aligned}\n",
    "$$\n",
    "\n",
    "Then we get their velocity:\n",
    "\n",
    "$$\n",
    "\\begin{aligned}\n",
    "    \\dot{x}_0 = \\dot{x}, \\qquad & \\dot{y}_0 = 0,\\\\\n",
    "    \\dot{x}_1 = \\dot{x} + l_{1} \\cos{\\theta_1} \\dot{\\theta}_{1}, \\qquad & \\dot{y}_1 = -l_{1} \\sin{\\theta_1} \\dot{\\theta}_{1},\\\\\n",
    "    \\dot{x}_2 = \\dot{x} + L_{1} \\cos{\\theta_1} \\dot{\\theta}_{1}+ l_{1} \\cos{\\theta_2} \\dot{\\theta}_{2}, \\qquad & \\dot{y}_2 = -L_{1} \\sin{\\theta_1} \\dot{\\theta}_{1} - L_{2} \\sin{\\theta_2} \\dot{\\theta}_{2}.\n",
    "\\end{aligned}\n",
    "$$\n"
   ]
  },
  {
   "attachments": {},
   "cell_type": "markdown",
   "metadata": {},
   "source": [
    "Total kinematic $T$ and potential energy $V$ are:\n",
    "\n",
    "$$\n",
    "\\begin{aligned}\n",
    "    T & = && \\frac{1}{2} m_{0} (\\dot{x}_{0}^{2} + \\dot{y}_{0}^{2}) + \\frac{1}{2} m_{1} (\\dot{x}_{1}^{2} + \\dot{y}_{1}^{2}) + \\frac{1}{2} J_{1} \\dot{\\theta}_{1}^{2} +\\frac{1}{2} m_{2} (\\dot{x}_{2}^{2} + \\dot{y}_{2}^{2}) + \\frac{1}{2} J_{2} \\dot{\\theta}_{2}^{2} \\\\\n",
    "    & = && \\frac{1}{2} (m_{0} + m_{1} + m_{2}) \\dot{x}^2 + \\frac{1}{2} (m_{1} l_{1}^{2} + m_{2} L_{1}^{2} + J_{1}) \\dot{\\theta}_{1}^{2} + \\frac{1}{2} (m_{2} L_{2}^{2} + J_{2}) \\dot{\\theta}_{2}^{2} \\\\\n",
    "    &&& + m_{2} L_{1} l_{2} \\cos{(\\theta_{1} - \\theta_{2})} \\dot{\\theta}_{1} \\dot{\\theta}_{2} + m_{2} l_2 \\cos{\\theta_{2}} \\dot{x} \\dot{\\theta_{2}} + (m_{1} l_{1} + m_{2} L_{1}) \\cos{\\theta_{1}} \\dot{x} \\dot{\\theta_{1}}, \\\\\n",
    "    V & = && m_{0} g y_{0} + m_1 g y_{1} + m_{2} g y_{2} \\\\\n",
    "    & = && (m_{1} l_{1} + m_{2} L_{1}) g \\cos{\\theta_{1}} + m_{2} g l_{2} \\cos{\\theta_{2}}.\n",
    "\\end{aligned}\n",
    "$$\n",
    "\n",
    "The Lagrangian $L$ is:\n",
    "\n",
    "$$\n",
    "\\begin{aligned}\n",
    "    L & = && T - V \\\\\n",
    "    & = && \\frac{1}{2} (m_{0} + m_{1} + m_{2}) \\dot{x}^2 + \\frac{1}{2} (m_{1} l_{1}^{2} + m_{2} L_{1}^{2} + J_{1}) \\dot{\\theta}_{1}^{2} + \\frac{1}{2} (m_{2} L_{2}^{2} + J_{2}) \\dot{\\theta}_{2}^{2} \\\\\n",
    "    &&& + m_{2} L_{1} l_{2} \\cos{(\\theta_{1} - \\theta_{2})} \\dot{\\theta}_{1} \\dot{\\theta}_{2} + m_{2} l_2 \\cos{\\theta_{2}} \\dot{x} \\dot{\\theta_{2}} + (m_{1} l_{1} + m_{2} L_{1}) \\cos{\\theta_{1}} \\dot{x} \\dot{\\theta_{1}} \\\\\n",
    "    &&& -(m_{1} l_{1} + m_{2} L_{1}) g \\cos{\\theta_{1}} - m_{2} g l_{2} \\cos{\\theta_{2}}.\n",
    "\\end{aligned}\n",
    "$$"
   ]
  },
  {
   "attachments": {},
   "cell_type": "markdown",
   "metadata": {},
   "source": [
    "We're able to obtain Lagrange's equations of the second kind:\n",
    "\n",
    "$$\n",
    "\\left \\{\n",
    "    \\begin{aligned}\n",
    "        & \\frac{d}{dt} (\\frac{\\partial L}{\\partial \\dot{x}}) - \\frac{\\partial L}{\\partial x} = f, \\\\\n",
    "        & \\frac{d}{dt} (\\frac{\\partial L}{\\partial \\dot{\\theta}_{1}}) - \\frac{\\partial L}{\\partial \\theta_{1}} = 0, \\\\\n",
    "        & \\frac{d}{dt} (\\frac{\\partial L}{\\partial \\dot{\\theta}_{2}}) - \\frac{\\partial L}{\\partial \\theta_{2}} = 0.\n",
    "    \\end{aligned}\n",
    "\\right.\n",
    "$$\n",
    "\n",
    "For simplicity, we define:\n",
    "\n",
    "$$\n",
    "h_{1} = m_{0} + m_{1} + m_{2}, \\qquad h_{2} = m_{1} l_{1} + m_{2} L_{2}, \\qquad h_{3} = m_{2} l_{2}, \\qquad h_{4} = m_{1} l_{1}^{2} + m_{2} L_{1}^{2} + J_{1}, \\\\\n",
    "h_{5} = m_{2} l_{2} L_{1}, \\qquad h_{6} = m_{2} l_{2}^{2} + J_{2}, \\qquad h_{7} = (m_{1} l_{1} + m_{2} L_{1}) g, \\qquad h_{8} = m_{2} l_{2} g.\n",
    "$$\n",
    "\n",
    "Then the dynamics yield:\n",
    "\n",
    "$$\n",
    "\\begin{aligned}\n",
    "    h_{1} \\ddot{x} + h_{2} \\cos{\\theta_{1}} \\ddot{\\theta}_{1} + h_{3} \\cos{\\theta_{2}} \\ddot{\\theta_{2}} & = h_{2} \\dot{\\theta}_{1}^{2} \\sin{\\theta_{1}} + h_{3} \\dot{\\theta}_{2}^{2} \\sin{\\theta_{2}} + f, \\\\\n",
    "    h_{2} \\cos{\\theta_{1}} \\ddot{x} + h_{4} \\ddot{\\theta}_{1} + h_{5} \\cos{(\\theta_{1} - \\theta_{2})} \\ddot{\\theta}_{2} & = h_{7} \\sin{\\theta_{1}} - h_{5} \\dot{\\theta}_{2}^{2} \\sin{(\\theta_{1} - \\theta_{2})}, \\\\\n",
    "    h_{3} \\cos{\\theta_{2}} \\ddot{x} + h_{5} \\cos{(\\theta_{1} - \\theta_{2})} \\ddot{\\theta}_{1} + h_{6} \\ddot{\\theta}_{2} & = h_{5} \\dot{\\theta}_{1}^{2} \\sin{(\\theta_{1} - \\theta_{2})} + h_{8} \\sin{\\theta_{2}}.\n",
    "\\end{aligned}\n",
    "$$\n",
    "\n",
    "*Euler-Lagrangian equations above have been verified with Mathematica.*\n",
    "\n",
    "\n"
   ]
  },
  {
   "cell_type": "code",
   "execution_count": null,
   "metadata": {},
   "outputs": [],
   "source": []
  }
 ],
 "metadata": {
  "language_info": {
   "name": "python"
  },
  "orig_nbformat": 4
 },
 "nbformat": 4,
 "nbformat_minor": 2
}
